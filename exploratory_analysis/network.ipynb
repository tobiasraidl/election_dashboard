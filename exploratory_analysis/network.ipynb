{
 "cells": [
  {
   "cell_type": "code",
   "execution_count": 1,
   "metadata": {},
   "outputs": [
    {
     "data": {
      "text/html": [
       "<div>\n",
       "<style scoped>\n",
       "    .dataframe tbody tr th:only-of-type {\n",
       "        vertical-align: middle;\n",
       "    }\n",
       "\n",
       "    .dataframe tbody tr th {\n",
       "        vertical-align: top;\n",
       "    }\n",
       "\n",
       "    .dataframe thead th {\n",
       "        text-align: right;\n",
       "    }\n",
       "</style>\n",
       "<table border=\"1\" class=\"dataframe\">\n",
       "  <thead>\n",
       "    <tr style=\"text-align: right;\">\n",
       "      <th></th>\n",
       "      <th>index</th>\n",
       "      <th>id_user_post</th>\n",
       "      <th>user_id</th>\n",
       "      <th>name</th>\n",
       "      <th>timestamp</th>\n",
       "      <th>platform</th>\n",
       "      <th>img_id</th>\n",
       "      <th>hash</th>\n",
       "    </tr>\n",
       "  </thead>\n",
       "  <tbody>\n",
       "    <tr>\n",
       "      <th>0</th>\n",
       "      <td>0</td>\n",
       "      <td>fb_100021691363_10157840358841364</td>\n",
       "      <td>100021691363</td>\n",
       "      <td>Sören Link</td>\n",
       "      <td>2021-08-16 16:05:50</td>\n",
       "      <td>fb</td>\n",
       "      <td>fb_100021691363_10157840358841364</td>\n",
       "      <td>87d5b928361ca35b</td>\n",
       "    </tr>\n",
       "    <tr>\n",
       "      <th>1</th>\n",
       "      <td>1</td>\n",
       "      <td>fb_100024665176055_794033051428860</td>\n",
       "      <td>100024665176055</td>\n",
       "      <td>Wissenschaftspark</td>\n",
       "      <td>2021-09-10 10:59:43</td>\n",
       "      <td>fb</td>\n",
       "      <td>fb_100024665176055_794033051428860</td>\n",
       "      <td>93776d8061df2361</td>\n",
       "    </tr>\n",
       "    <tr>\n",
       "      <th>2</th>\n",
       "      <td>2</td>\n",
       "      <td>fb_100028342704825_704743473813736</td>\n",
       "      <td>100028342704825</td>\n",
       "      <td>Ahrweinshop und ahrland Dankos Weinladen</td>\n",
       "      <td>2021-09-09 00:02:50</td>\n",
       "      <td>fb</td>\n",
       "      <td>fb_100028342704825_704743473813736</td>\n",
       "      <td>37624db3e258f01b</td>\n",
       "    </tr>\n",
       "    <tr>\n",
       "      <th>3</th>\n",
       "      <td>3</td>\n",
       "      <td>fb_100038686975829_507394040560157</td>\n",
       "      <td>100038686975829</td>\n",
       "      <td>Saturday's Heroes - Der Fußball-Blog</td>\n",
       "      <td>2021-09-23 13:01:41</td>\n",
       "      <td>fb</td>\n",
       "      <td>fb_100038686975829_507394040560157</td>\n",
       "      <td>a36f5c6dc94944cc</td>\n",
       "    </tr>\n",
       "    <tr>\n",
       "      <th>4</th>\n",
       "      <td>4</td>\n",
       "      <td>fb_100038899098192_502667104373255</td>\n",
       "      <td>100038899098192</td>\n",
       "      <td>Landrat Elmar Stegmann</td>\n",
       "      <td>2021-09-07 18:09:03</td>\n",
       "      <td>fb</td>\n",
       "      <td>fb_100038899098192_502667104373255</td>\n",
       "      <td>5d0ff57e018ce548</td>\n",
       "    </tr>\n",
       "    <tr>\n",
       "      <th>...</th>\n",
       "      <td>...</td>\n",
       "      <td>...</td>\n",
       "      <td>...</td>\n",
       "      <td>...</td>\n",
       "      <td>...</td>\n",
       "      <td>...</td>\n",
       "      <td>...</td>\n",
       "      <td>...</td>\n",
       "    </tr>\n",
       "    <tr>\n",
       "      <th>84108</th>\n",
       "      <td>84301</td>\n",
       "      <td>tw_998848093645955072_1440616903882403840</td>\n",
       "      <td>998848093645955072</td>\n",
       "      <td>NaN</td>\n",
       "      <td>2021-09-22 00:00:00</td>\n",
       "      <td>tw</td>\n",
       "      <td>tw_998848093645955072_1440616903882403840</td>\n",
       "      <td>eb3a07659d0783b4</td>\n",
       "    </tr>\n",
       "    <tr>\n",
       "      <th>84109</th>\n",
       "      <td>84302</td>\n",
       "      <td>tw_998946456416456705_1437889158974955521</td>\n",
       "      <td>998946456416456705</td>\n",
       "      <td>NaN</td>\n",
       "      <td>2021-09-14 00:00:00</td>\n",
       "      <td>tw</td>\n",
       "      <td>tw_998946456416456705_1437889158974955521</td>\n",
       "      <td>6fb13893c8cfb046</td>\n",
       "    </tr>\n",
       "    <tr>\n",
       "      <th>84110</th>\n",
       "      <td>84303</td>\n",
       "      <td>tw_999019154618363904_1430159217202237451</td>\n",
       "      <td>999019154618363904</td>\n",
       "      <td>NaN</td>\n",
       "      <td>2021-08-24 00:00:00</td>\n",
       "      <td>tw</td>\n",
       "      <td>tw_999019154618363904_1430159217202237451</td>\n",
       "      <td>297dd4935090abbe</td>\n",
       "    </tr>\n",
       "    <tr>\n",
       "      <th>84111</th>\n",
       "      <td>84304</td>\n",
       "      <td>tw_999029864_1442024480197464065</td>\n",
       "      <td>999029864</td>\n",
       "      <td>NaN</td>\n",
       "      <td>2021-09-26 00:00:00</td>\n",
       "      <td>tw</td>\n",
       "      <td>tw_999029864_1442024480197464065</td>\n",
       "      <td>ebc3cae9cc0523b2</td>\n",
       "    </tr>\n",
       "    <tr>\n",
       "      <th>84112</th>\n",
       "      <td>84305</td>\n",
       "      <td>tw_999944096537079808_1429755853809373185</td>\n",
       "      <td>999944096537079808</td>\n",
       "      <td>NaN</td>\n",
       "      <td>2021-08-23 00:00:00</td>\n",
       "      <td>tw</td>\n",
       "      <td>tw_999944096537079808_1429755853809373185</td>\n",
       "      <td>996886e66c967959</td>\n",
       "    </tr>\n",
       "  </tbody>\n",
       "</table>\n",
       "<p>84113 rows × 8 columns</p>\n",
       "</div>"
      ],
      "text/plain": [
       "       index                               id_user_post             user_id  \\\n",
       "0          0          fb_100021691363_10157840358841364        100021691363   \n",
       "1          1         fb_100024665176055_794033051428860     100024665176055   \n",
       "2          2         fb_100028342704825_704743473813736     100028342704825   \n",
       "3          3         fb_100038686975829_507394040560157     100038686975829   \n",
       "4          4         fb_100038899098192_502667104373255     100038899098192   \n",
       "...      ...                                        ...                 ...   \n",
       "84108  84301  tw_998848093645955072_1440616903882403840  998848093645955072   \n",
       "84109  84302  tw_998946456416456705_1437889158974955521  998946456416456705   \n",
       "84110  84303  tw_999019154618363904_1430159217202237451  999019154618363904   \n",
       "84111  84304           tw_999029864_1442024480197464065           999029864   \n",
       "84112  84305  tw_999944096537079808_1429755853809373185  999944096537079808   \n",
       "\n",
       "                                           name           timestamp platform  \\\n",
       "0                                    Sören Link 2021-08-16 16:05:50       fb   \n",
       "1                             Wissenschaftspark 2021-09-10 10:59:43       fb   \n",
       "2      Ahrweinshop und ahrland Dankos Weinladen 2021-09-09 00:02:50       fb   \n",
       "3          Saturday's Heroes - Der Fußball-Blog 2021-09-23 13:01:41       fb   \n",
       "4                        Landrat Elmar Stegmann 2021-09-07 18:09:03       fb   \n",
       "...                                         ...                 ...      ...   \n",
       "84108                                       NaN 2021-09-22 00:00:00       tw   \n",
       "84109                                       NaN 2021-09-14 00:00:00       tw   \n",
       "84110                                       NaN 2021-08-24 00:00:00       tw   \n",
       "84111                                       NaN 2021-09-26 00:00:00       tw   \n",
       "84112                                       NaN 2021-08-23 00:00:00       tw   \n",
       "\n",
       "                                          img_id              hash  \n",
       "0              fb_100021691363_10157840358841364  87d5b928361ca35b  \n",
       "1             fb_100024665176055_794033051428860  93776d8061df2361  \n",
       "2             fb_100028342704825_704743473813736  37624db3e258f01b  \n",
       "3             fb_100038686975829_507394040560157  a36f5c6dc94944cc  \n",
       "4             fb_100038899098192_502667104373255  5d0ff57e018ce548  \n",
       "...                                          ...               ...  \n",
       "84108  tw_998848093645955072_1440616903882403840  eb3a07659d0783b4  \n",
       "84109  tw_998946456416456705_1437889158974955521  6fb13893c8cfb046  \n",
       "84110  tw_999019154618363904_1430159217202237451  297dd4935090abbe  \n",
       "84111           tw_999029864_1442024480197464065  ebc3cae9cc0523b2  \n",
       "84112  tw_999944096537079808_1429755853809373185  996886e66c967959  \n",
       "\n",
       "[84113 rows x 8 columns]"
      ]
     },
     "metadata": {},
     "output_type": "display_data"
    }
   ],
   "source": [
    "import pandas as pd\n",
    "import networkx as nx\n",
    "import plotly.graph_objects as go\n",
    "\n",
    "import pandas as pd\n",
    "\n",
    "df = pd.read_csv(\"../data/multiplatform_hashed_visuals.csv\")\n",
    "df = df.dropna(subset=[\"hash\"]).reset_index()\n",
    "df[\"timestamp\"] = pd.to_datetime(df[\"timestamp\"], unit=\"s\")\n",
    "display(df)"
   ]
  },
  {
   "cell_type": "code",
   "execution_count": 10,
   "metadata": {},
   "outputs": [
    {
     "name": "stdout",
     "output_type": "stream",
     "text": [
      "Graph with 9505 nodes and 36795 edges\n"
     ]
    }
   ],
   "source": [
    "G = nx.Graph()\n",
    "\n",
    "# Add nodes and edges\n",
    "for _, group in df.groupby('hash'):\n",
    "    users = group['user_id'].tolist()\n",
    "    for i in range(len(users)):\n",
    "        for j in range(i + 1, len(users)):\n",
    "            G.add_edge(users[i], users[j])\n",
    "\n",
    "print(G)\n"
   ]
  },
  {
   "cell_type": "code",
   "execution_count": 12,
   "metadata": {},
   "outputs": [
    {
     "name": "stdout",
     "output_type": "stream",
     "text": [
      "Highest degree of any node: 248\n"
     ]
    },
    {
     "data": {
      "application/vnd.plotly.v1+json": {
       "config": {
        "plotlyServerURL": "https://plot.ly"
       },
       "data": [
        {
         "mode": "lines",
         "name": "Line Plot",
         "type": "scatter",
         "x": [
          1,
          2,
          3,
          4,
          5,
          6,
          7,
          8,
          9,
          10,
          11,
          12,
          13,
          14,
          15,
          16,
          17,
          18,
          19,
          20,
          21,
          22,
          23,
          24,
          25,
          26,
          27,
          28,
          29,
          30,
          31,
          32,
          33,
          34,
          35,
          36,
          37,
          38,
          39,
          40,
          41,
          42,
          43,
          44,
          45,
          46,
          47,
          48,
          49,
          50,
          51,
          52,
          53,
          54,
          55,
          56,
          57,
          58,
          59,
          60,
          61,
          62,
          63,
          64,
          65,
          66,
          67,
          68,
          69,
          70,
          71,
          72,
          73,
          74,
          75,
          76,
          77,
          78,
          79,
          80,
          81,
          82,
          83,
          84,
          85,
          86,
          87,
          88,
          89,
          90,
          91,
          92,
          93,
          94,
          95,
          96,
          97,
          98,
          99,
          100,
          101,
          102,
          103,
          104,
          105,
          106,
          107,
          108,
          109,
          110,
          111,
          112,
          113,
          114,
          115,
          116,
          117,
          118,
          119,
          120,
          121,
          122,
          123,
          124,
          125,
          126,
          127,
          128,
          129,
          130,
          131,
          132,
          133,
          134,
          135,
          136,
          137,
          138,
          139,
          140,
          141,
          142,
          143,
          144,
          145,
          146,
          147,
          148,
          149,
          150,
          151,
          152,
          153,
          154,
          155,
          156,
          157,
          158,
          159,
          160,
          161,
          162,
          163,
          164,
          165,
          166,
          167,
          168,
          169,
          170,
          171,
          172,
          173,
          174,
          175,
          176,
          177,
          178,
          179,
          180,
          181,
          182,
          183,
          184,
          185,
          186,
          187,
          188,
          189,
          190,
          191,
          192,
          193,
          194,
          195,
          196,
          197,
          198,
          199,
          200,
          201,
          202,
          203,
          204,
          205,
          206,
          207,
          208,
          209,
          210,
          211,
          212,
          213,
          214,
          215,
          216,
          217,
          218,
          219,
          220,
          221,
          222,
          223,
          224,
          225,
          226,
          227,
          228,
          229,
          230,
          231,
          232,
          233,
          234,
          235,
          236,
          237,
          238,
          239,
          240,
          241,
          242,
          243,
          244,
          245,
          246,
          247,
          248
         ],
         "y": [
          3708,
          1578,
          828,
          475,
          316,
          284,
          182,
          193,
          166,
          167,
          112,
          78,
          81,
          106,
          101,
          51,
          82,
          58,
          40,
          65,
          40,
          24,
          75,
          30,
          27,
          37,
          15,
          16,
          18,
          15,
          24,
          19,
          12,
          13,
          9,
          9,
          4,
          11,
          21,
          11,
          15,
          5,
          6,
          4,
          32,
          27,
          14,
          5,
          4,
          6,
          1,
          55,
          10,
          14,
          4,
          13,
          6,
          3,
          0,
          2,
          3,
          4,
          2,
          2,
          2,
          5,
          3,
          2,
          3,
          2,
          2,
          0,
          1,
          1,
          0,
          1,
          6,
          4,
          2,
          0,
          1,
          0,
          0,
          0,
          1,
          0,
          0,
          1,
          0,
          0,
          0,
          1,
          3,
          1,
          0,
          1,
          1,
          0,
          1,
          0,
          1,
          1,
          0,
          1,
          0,
          0,
          40,
          12,
          10,
          2,
          4,
          7,
          6,
          2,
          2,
          0,
          2,
          1,
          0,
          3,
          2,
          5,
          1,
          0,
          1,
          0,
          0,
          0,
          0,
          0,
          2,
          1,
          1,
          0,
          2,
          1,
          0,
          2,
          0,
          1,
          2,
          0,
          0,
          0,
          0,
          0,
          1,
          0,
          0,
          1,
          0,
          0,
          0,
          0,
          0,
          0,
          0,
          0,
          0,
          0,
          0,
          0,
          0,
          0,
          0,
          0,
          0,
          0,
          0,
          0,
          0,
          0,
          0,
          0,
          0,
          0,
          1,
          0,
          0,
          0,
          0,
          0,
          0,
          0,
          0,
          0,
          0,
          0,
          0,
          0,
          0,
          1,
          0,
          0,
          0,
          0,
          0,
          0,
          0,
          0,
          0,
          0,
          0,
          0,
          0,
          0,
          1,
          0,
          0,
          0,
          0,
          0,
          0,
          0,
          0,
          0,
          0,
          0,
          0,
          0,
          0,
          0,
          0,
          0,
          0,
          0,
          0,
          0,
          0,
          0,
          0,
          0,
          0,
          0,
          0,
          0,
          0,
          0,
          1,
          0,
          0,
          0,
          0,
          0,
          0,
          0,
          0,
          1
         ]
        }
       ],
       "layout": {
        "template": {
         "data": {
          "bar": [
           {
            "error_x": {
             "color": "#2a3f5f"
            },
            "error_y": {
             "color": "#2a3f5f"
            },
            "marker": {
             "line": {
              "color": "#E5ECF6",
              "width": 0.5
             },
             "pattern": {
              "fillmode": "overlay",
              "size": 10,
              "solidity": 0.2
             }
            },
            "type": "bar"
           }
          ],
          "barpolar": [
           {
            "marker": {
             "line": {
              "color": "#E5ECF6",
              "width": 0.5
             },
             "pattern": {
              "fillmode": "overlay",
              "size": 10,
              "solidity": 0.2
             }
            },
            "type": "barpolar"
           }
          ],
          "carpet": [
           {
            "aaxis": {
             "endlinecolor": "#2a3f5f",
             "gridcolor": "white",
             "linecolor": "white",
             "minorgridcolor": "white",
             "startlinecolor": "#2a3f5f"
            },
            "baxis": {
             "endlinecolor": "#2a3f5f",
             "gridcolor": "white",
             "linecolor": "white",
             "minorgridcolor": "white",
             "startlinecolor": "#2a3f5f"
            },
            "type": "carpet"
           }
          ],
          "choropleth": [
           {
            "colorbar": {
             "outlinewidth": 0,
             "ticks": ""
            },
            "type": "choropleth"
           }
          ],
          "contour": [
           {
            "colorbar": {
             "outlinewidth": 0,
             "ticks": ""
            },
            "colorscale": [
             [
              0,
              "#0d0887"
             ],
             [
              0.1111111111111111,
              "#46039f"
             ],
             [
              0.2222222222222222,
              "#7201a8"
             ],
             [
              0.3333333333333333,
              "#9c179e"
             ],
             [
              0.4444444444444444,
              "#bd3786"
             ],
             [
              0.5555555555555556,
              "#d8576b"
             ],
             [
              0.6666666666666666,
              "#ed7953"
             ],
             [
              0.7777777777777778,
              "#fb9f3a"
             ],
             [
              0.8888888888888888,
              "#fdca26"
             ],
             [
              1,
              "#f0f921"
             ]
            ],
            "type": "contour"
           }
          ],
          "contourcarpet": [
           {
            "colorbar": {
             "outlinewidth": 0,
             "ticks": ""
            },
            "type": "contourcarpet"
           }
          ],
          "heatmap": [
           {
            "colorbar": {
             "outlinewidth": 0,
             "ticks": ""
            },
            "colorscale": [
             [
              0,
              "#0d0887"
             ],
             [
              0.1111111111111111,
              "#46039f"
             ],
             [
              0.2222222222222222,
              "#7201a8"
             ],
             [
              0.3333333333333333,
              "#9c179e"
             ],
             [
              0.4444444444444444,
              "#bd3786"
             ],
             [
              0.5555555555555556,
              "#d8576b"
             ],
             [
              0.6666666666666666,
              "#ed7953"
             ],
             [
              0.7777777777777778,
              "#fb9f3a"
             ],
             [
              0.8888888888888888,
              "#fdca26"
             ],
             [
              1,
              "#f0f921"
             ]
            ],
            "type": "heatmap"
           }
          ],
          "heatmapgl": [
           {
            "colorbar": {
             "outlinewidth": 0,
             "ticks": ""
            },
            "colorscale": [
             [
              0,
              "#0d0887"
             ],
             [
              0.1111111111111111,
              "#46039f"
             ],
             [
              0.2222222222222222,
              "#7201a8"
             ],
             [
              0.3333333333333333,
              "#9c179e"
             ],
             [
              0.4444444444444444,
              "#bd3786"
             ],
             [
              0.5555555555555556,
              "#d8576b"
             ],
             [
              0.6666666666666666,
              "#ed7953"
             ],
             [
              0.7777777777777778,
              "#fb9f3a"
             ],
             [
              0.8888888888888888,
              "#fdca26"
             ],
             [
              1,
              "#f0f921"
             ]
            ],
            "type": "heatmapgl"
           }
          ],
          "histogram": [
           {
            "marker": {
             "pattern": {
              "fillmode": "overlay",
              "size": 10,
              "solidity": 0.2
             }
            },
            "type": "histogram"
           }
          ],
          "histogram2d": [
           {
            "colorbar": {
             "outlinewidth": 0,
             "ticks": ""
            },
            "colorscale": [
             [
              0,
              "#0d0887"
             ],
             [
              0.1111111111111111,
              "#46039f"
             ],
             [
              0.2222222222222222,
              "#7201a8"
             ],
             [
              0.3333333333333333,
              "#9c179e"
             ],
             [
              0.4444444444444444,
              "#bd3786"
             ],
             [
              0.5555555555555556,
              "#d8576b"
             ],
             [
              0.6666666666666666,
              "#ed7953"
             ],
             [
              0.7777777777777778,
              "#fb9f3a"
             ],
             [
              0.8888888888888888,
              "#fdca26"
             ],
             [
              1,
              "#f0f921"
             ]
            ],
            "type": "histogram2d"
           }
          ],
          "histogram2dcontour": [
           {
            "colorbar": {
             "outlinewidth": 0,
             "ticks": ""
            },
            "colorscale": [
             [
              0,
              "#0d0887"
             ],
             [
              0.1111111111111111,
              "#46039f"
             ],
             [
              0.2222222222222222,
              "#7201a8"
             ],
             [
              0.3333333333333333,
              "#9c179e"
             ],
             [
              0.4444444444444444,
              "#bd3786"
             ],
             [
              0.5555555555555556,
              "#d8576b"
             ],
             [
              0.6666666666666666,
              "#ed7953"
             ],
             [
              0.7777777777777778,
              "#fb9f3a"
             ],
             [
              0.8888888888888888,
              "#fdca26"
             ],
             [
              1,
              "#f0f921"
             ]
            ],
            "type": "histogram2dcontour"
           }
          ],
          "mesh3d": [
           {
            "colorbar": {
             "outlinewidth": 0,
             "ticks": ""
            },
            "type": "mesh3d"
           }
          ],
          "parcoords": [
           {
            "line": {
             "colorbar": {
              "outlinewidth": 0,
              "ticks": ""
             }
            },
            "type": "parcoords"
           }
          ],
          "pie": [
           {
            "automargin": true,
            "type": "pie"
           }
          ],
          "scatter": [
           {
            "fillpattern": {
             "fillmode": "overlay",
             "size": 10,
             "solidity": 0.2
            },
            "type": "scatter"
           }
          ],
          "scatter3d": [
           {
            "line": {
             "colorbar": {
              "outlinewidth": 0,
              "ticks": ""
             }
            },
            "marker": {
             "colorbar": {
              "outlinewidth": 0,
              "ticks": ""
             }
            },
            "type": "scatter3d"
           }
          ],
          "scattercarpet": [
           {
            "marker": {
             "colorbar": {
              "outlinewidth": 0,
              "ticks": ""
             }
            },
            "type": "scattercarpet"
           }
          ],
          "scattergeo": [
           {
            "marker": {
             "colorbar": {
              "outlinewidth": 0,
              "ticks": ""
             }
            },
            "type": "scattergeo"
           }
          ],
          "scattergl": [
           {
            "marker": {
             "colorbar": {
              "outlinewidth": 0,
              "ticks": ""
             }
            },
            "type": "scattergl"
           }
          ],
          "scattermapbox": [
           {
            "marker": {
             "colorbar": {
              "outlinewidth": 0,
              "ticks": ""
             }
            },
            "type": "scattermapbox"
           }
          ],
          "scatterpolar": [
           {
            "marker": {
             "colorbar": {
              "outlinewidth": 0,
              "ticks": ""
             }
            },
            "type": "scatterpolar"
           }
          ],
          "scatterpolargl": [
           {
            "marker": {
             "colorbar": {
              "outlinewidth": 0,
              "ticks": ""
             }
            },
            "type": "scatterpolargl"
           }
          ],
          "scatterternary": [
           {
            "marker": {
             "colorbar": {
              "outlinewidth": 0,
              "ticks": ""
             }
            },
            "type": "scatterternary"
           }
          ],
          "surface": [
           {
            "colorbar": {
             "outlinewidth": 0,
             "ticks": ""
            },
            "colorscale": [
             [
              0,
              "#0d0887"
             ],
             [
              0.1111111111111111,
              "#46039f"
             ],
             [
              0.2222222222222222,
              "#7201a8"
             ],
             [
              0.3333333333333333,
              "#9c179e"
             ],
             [
              0.4444444444444444,
              "#bd3786"
             ],
             [
              0.5555555555555556,
              "#d8576b"
             ],
             [
              0.6666666666666666,
              "#ed7953"
             ],
             [
              0.7777777777777778,
              "#fb9f3a"
             ],
             [
              0.8888888888888888,
              "#fdca26"
             ],
             [
              1,
              "#f0f921"
             ]
            ],
            "type": "surface"
           }
          ],
          "table": [
           {
            "cells": {
             "fill": {
              "color": "#EBF0F8"
             },
             "line": {
              "color": "white"
             }
            },
            "header": {
             "fill": {
              "color": "#C8D4E3"
             },
             "line": {
              "color": "white"
             }
            },
            "type": "table"
           }
          ]
         },
         "layout": {
          "annotationdefaults": {
           "arrowcolor": "#2a3f5f",
           "arrowhead": 0,
           "arrowwidth": 1
          },
          "autotypenumbers": "strict",
          "coloraxis": {
           "colorbar": {
            "outlinewidth": 0,
            "ticks": ""
           }
          },
          "colorscale": {
           "diverging": [
            [
             0,
             "#8e0152"
            ],
            [
             0.1,
             "#c51b7d"
            ],
            [
             0.2,
             "#de77ae"
            ],
            [
             0.3,
             "#f1b6da"
            ],
            [
             0.4,
             "#fde0ef"
            ],
            [
             0.5,
             "#f7f7f7"
            ],
            [
             0.6,
             "#e6f5d0"
            ],
            [
             0.7,
             "#b8e186"
            ],
            [
             0.8,
             "#7fbc41"
            ],
            [
             0.9,
             "#4d9221"
            ],
            [
             1,
             "#276419"
            ]
           ],
           "sequential": [
            [
             0,
             "#0d0887"
            ],
            [
             0.1111111111111111,
             "#46039f"
            ],
            [
             0.2222222222222222,
             "#7201a8"
            ],
            [
             0.3333333333333333,
             "#9c179e"
            ],
            [
             0.4444444444444444,
             "#bd3786"
            ],
            [
             0.5555555555555556,
             "#d8576b"
            ],
            [
             0.6666666666666666,
             "#ed7953"
            ],
            [
             0.7777777777777778,
             "#fb9f3a"
            ],
            [
             0.8888888888888888,
             "#fdca26"
            ],
            [
             1,
             "#f0f921"
            ]
           ],
           "sequentialminus": [
            [
             0,
             "#0d0887"
            ],
            [
             0.1111111111111111,
             "#46039f"
            ],
            [
             0.2222222222222222,
             "#7201a8"
            ],
            [
             0.3333333333333333,
             "#9c179e"
            ],
            [
             0.4444444444444444,
             "#bd3786"
            ],
            [
             0.5555555555555556,
             "#d8576b"
            ],
            [
             0.6666666666666666,
             "#ed7953"
            ],
            [
             0.7777777777777778,
             "#fb9f3a"
            ],
            [
             0.8888888888888888,
             "#fdca26"
            ],
            [
             1,
             "#f0f921"
            ]
           ]
          },
          "colorway": [
           "#636efa",
           "#EF553B",
           "#00cc96",
           "#ab63fa",
           "#FFA15A",
           "#19d3f3",
           "#FF6692",
           "#B6E880",
           "#FF97FF",
           "#FECB52"
          ],
          "font": {
           "color": "#2a3f5f"
          },
          "geo": {
           "bgcolor": "white",
           "lakecolor": "white",
           "landcolor": "#E5ECF6",
           "showlakes": true,
           "showland": true,
           "subunitcolor": "white"
          },
          "hoverlabel": {
           "align": "left"
          },
          "hovermode": "closest",
          "mapbox": {
           "style": "light"
          },
          "paper_bgcolor": "white",
          "plot_bgcolor": "#E5ECF6",
          "polar": {
           "angularaxis": {
            "gridcolor": "white",
            "linecolor": "white",
            "ticks": ""
           },
           "bgcolor": "#E5ECF6",
           "radialaxis": {
            "gridcolor": "white",
            "linecolor": "white",
            "ticks": ""
           }
          },
          "scene": {
           "xaxis": {
            "backgroundcolor": "#E5ECF6",
            "gridcolor": "white",
            "gridwidth": 2,
            "linecolor": "white",
            "showbackground": true,
            "ticks": "",
            "zerolinecolor": "white"
           },
           "yaxis": {
            "backgroundcolor": "#E5ECF6",
            "gridcolor": "white",
            "gridwidth": 2,
            "linecolor": "white",
            "showbackground": true,
            "ticks": "",
            "zerolinecolor": "white"
           },
           "zaxis": {
            "backgroundcolor": "#E5ECF6",
            "gridcolor": "white",
            "gridwidth": 2,
            "linecolor": "white",
            "showbackground": true,
            "ticks": "",
            "zerolinecolor": "white"
           }
          },
          "shapedefaults": {
           "line": {
            "color": "#2a3f5f"
           }
          },
          "ternary": {
           "aaxis": {
            "gridcolor": "white",
            "linecolor": "white",
            "ticks": ""
           },
           "baxis": {
            "gridcolor": "white",
            "linecolor": "white",
            "ticks": ""
           },
           "bgcolor": "#E5ECF6",
           "caxis": {
            "gridcolor": "white",
            "linecolor": "white",
            "ticks": ""
           }
          },
          "title": {
           "x": 0.05
          },
          "xaxis": {
           "automargin": true,
           "gridcolor": "white",
           "linecolor": "white",
           "ticks": "",
           "title": {
            "standoff": 15
           },
           "zerolinecolor": "white",
           "zerolinewidth": 2
          },
          "yaxis": {
           "automargin": true,
           "gridcolor": "white",
           "linecolor": "white",
           "ticks": "",
           "title": {
            "standoff": 15
           },
           "zerolinecolor": "white",
           "zerolinewidth": 2
          }
         }
        },
        "title": {
         "text": "Line Plot with Logarithmic Scale on Y-axis"
        },
        "xaxis": {
         "title": {
          "text": "Index"
         }
        },
        "yaxis": {
         "title": {
          "text": "Values (log scale)"
         },
         "type": "log"
        }
       }
      }
     },
     "metadata": {},
     "output_type": "display_data"
    }
   ],
   "source": [
    "def query_nodes_with_min_deg(G, n):\n",
    "    return [node for node, degree in dict(G.degree()).items() if degree > n]\n",
    "\n",
    "def query_nodes_by_deg(G, n):\n",
    "    return [node for node, degree in dict(G.degree()).items() if degree == n]\n",
    "\n",
    "highest_degree = max(list(dict(G.degree()).values()))\n",
    "print(f\"Highest degree of any node: {highest_degree}\")\n",
    "\n",
    "degree_counts = {}\n",
    "for i in range(1,highest_degree + 1):\n",
    "    degree_counts[i] = len(query_nodes_by_deg(G, i))\n",
    "\n",
    "fig = go.Figure()\n",
    "\n",
    "fig.add_trace(go.Scatter(x=list(degree_counts.keys()), y=list(degree_counts.values()), mode='lines', name='Line Plot'))\n",
    "fig.update_layout(\n",
    "    yaxis_type=\"log\",\n",
    "    title=\"Line Plot with Logarithmic Scale on Y-axis\",\n",
    "    xaxis_title=\"Index\",\n",
    "    yaxis_title=\"Values (log scale)\"\n",
    ")\n",
    "fig.show()"
   ]
  }
 ],
 "metadata": {
  "kernelspec": {
   "display_name": "network_vis",
   "language": "python",
   "name": "python3"
  },
  "language_info": {
   "codemirror_mode": {
    "name": "ipython",
    "version": 3
   },
   "file_extension": ".py",
   "mimetype": "text/x-python",
   "name": "python",
   "nbconvert_exporter": "python",
   "pygments_lexer": "ipython3",
   "version": "3.12.6"
  }
 },
 "nbformat": 4,
 "nbformat_minor": 2
}
