{
 "cells": [
  {
   "cell_type": "code",
   "execution_count": 2,
   "metadata": {},
   "outputs": [
    {
     "data": {
      "application/vnd.plotly.v1+json": {
       "config": {
        "plotlyServerURL": "https://plot.ly"
       },
       "data": [
        {
         "coloraxis": "coloraxis",
         "histfunc": "sum",
         "hovertemplate": "party=afd<br>Date=%{x}<br>Platform=%{y}<br>sum of Number of Posts=%{z}<extra></extra>",
         "name": "",
         "type": "histogram2d",
         "x": [
          "2021-08-16",
          "2021-08-17",
          "2021-08-18",
          "2021-08-19",
          "2021-08-19",
          "2021-08-20",
          "2021-08-20",
          "2021-08-21",
          "2021-08-22",
          "2021-08-23",
          "2021-08-23",
          "2021-08-24",
          "2021-08-24",
          "2021-08-25",
          "2021-08-25",
          "2021-08-26",
          "2021-08-27",
          "2021-08-29",
          "2021-08-30",
          "2021-08-30",
          "2021-08-31",
          "2021-09-01",
          "2021-09-01",
          "2021-09-02",
          "2021-09-02",
          "2021-09-03",
          "2021-09-03",
          "2021-09-04",
          "2021-09-05",
          "2021-09-06",
          "2021-09-06",
          "2021-09-07",
          "2021-09-07",
          "2021-09-08",
          "2021-09-08",
          "2021-09-09",
          "2021-09-10",
          "2021-09-11",
          "2021-09-12",
          "2021-09-13",
          "2021-09-13",
          "2021-09-14",
          "2021-09-14",
          "2021-09-15",
          "2021-09-16",
          "2021-09-16",
          "2021-09-17",
          "2021-09-17",
          "2021-09-18",
          "2021-09-19",
          "2021-09-20",
          "2021-09-20",
          "2021-09-21",
          "2021-09-21",
          "2021-09-22",
          "2021-09-23",
          "2021-09-23",
          "2021-09-24",
          "2021-09-24",
          "2021-09-25",
          "2021-09-25",
          "2021-09-26",
          "2021-09-26"
         ],
         "xaxis": "x6",
         "xbingroup": "x",
         "y": [
          "Facebook",
          "Facebook",
          "Facebook",
          "Facebook",
          "Instagram",
          "Facebook",
          "Instagram",
          "Facebook",
          "Facebook",
          "Facebook",
          "Instagram",
          "Facebook",
          "Instagram",
          "Facebook",
          "Instagram",
          "Facebook",
          "Facebook",
          "Facebook",
          "Facebook",
          "Instagram",
          "Facebook",
          "Facebook",
          "Instagram",
          "Facebook",
          "Instagram",
          "Facebook",
          "Instagram",
          "Facebook",
          "Facebook",
          "Facebook",
          "Instagram",
          "Facebook",
          "Instagram",
          "Facebook",
          "Instagram",
          "Facebook",
          "Facebook",
          "Facebook",
          "Facebook",
          "Facebook",
          "Instagram",
          "Facebook",
          "Instagram",
          "Facebook",
          "Facebook",
          "Instagram",
          "Facebook",
          "Instagram",
          "Facebook",
          "Facebook",
          "Facebook",
          "Instagram",
          "Facebook",
          "Instagram",
          "Facebook",
          "Facebook",
          "Instagram",
          "Facebook",
          "Instagram",
          "Facebook",
          "Instagram",
          "Facebook",
          "Instagram"
         ],
         "yaxis": "y6",
         "ybingroup": "y",
         "z": [
          2,
          9,
          2,
          12,
          2,
          8,
          1,
          3,
          3,
          12,
          1,
          4,
          1,
          6,
          2,
          10,
          5,
          2,
          3,
          1,
          4,
          13,
          1,
          10,
          2,
          16,
          1,
          11,
          6,
          23,
          2,
          6,
          1,
          15,
          1,
          7,
          10,
          2,
          2,
          10,
          1,
          8,
          1,
          10,
          10,
          2,
          6,
          4,
          2,
          5,
          19,
          2,
          10,
          1,
          9,
          13,
          1,
          12,
          1,
          33,
          1,
          16,
          1
         ]
        },
        {
         "coloraxis": "coloraxis",
         "histfunc": "sum",
         "hovertemplate": "party=cdu_csu<br>Date=%{x}<br>Platform=%{y}<br>sum of Number of Posts=%{z}<extra></extra>",
         "name": "",
         "type": "histogram2d",
         "x": [
          "2021-08-16",
          "2021-08-17",
          "2021-08-17",
          "2021-08-18",
          "2021-08-18",
          "2021-08-19",
          "2021-08-19",
          "2021-08-20",
          "2021-08-20",
          "2021-08-21",
          "2021-08-21",
          "2021-08-22",
          "2021-08-22",
          "2021-08-23",
          "2021-08-23",
          "2021-08-24",
          "2021-08-24",
          "2021-08-25",
          "2021-08-25",
          "2021-08-26",
          "2021-08-26",
          "2021-08-27",
          "2021-08-27",
          "2021-08-28",
          "2021-08-28",
          "2021-08-29",
          "2021-08-29",
          "2021-08-30",
          "2021-08-30",
          "2021-08-31",
          "2021-08-31",
          "2021-09-01",
          "2021-09-01",
          "2021-09-02",
          "2021-09-02",
          "2021-09-03",
          "2021-09-03",
          "2021-09-04",
          "2021-09-04",
          "2021-09-05",
          "2021-09-05",
          "2021-09-06",
          "2021-09-06",
          "2021-09-07",
          "2021-09-07",
          "2021-09-08",
          "2021-09-08",
          "2021-09-09",
          "2021-09-09",
          "2021-09-10",
          "2021-09-10",
          "2021-09-11",
          "2021-09-11",
          "2021-09-12",
          "2021-09-12",
          "2021-09-13",
          "2021-09-13",
          "2021-09-14",
          "2021-09-14",
          "2021-09-15",
          "2021-09-15",
          "2021-09-16",
          "2021-09-16",
          "2021-09-17",
          "2021-09-17",
          "2021-09-18",
          "2021-09-18",
          "2021-09-19",
          "2021-09-19",
          "2021-09-20",
          "2021-09-20",
          "2021-09-21",
          "2021-09-21",
          "2021-09-22",
          "2021-09-22",
          "2021-09-23",
          "2021-09-23",
          "2021-09-24",
          "2021-09-24",
          "2021-09-25",
          "2021-09-25",
          "2021-09-26"
         ],
         "xaxis": "x5",
         "xbingroup": "x",
         "y": [
          "Facebook",
          "Facebook",
          "Instagram",
          "Facebook",
          "Instagram",
          "Facebook",
          "Instagram",
          "Facebook",
          "Instagram",
          "Facebook",
          "Instagram",
          "Facebook",
          "Instagram",
          "Facebook",
          "Instagram",
          "Facebook",
          "Instagram",
          "Facebook",
          "Instagram",
          "Facebook",
          "Instagram",
          "Facebook",
          "Instagram",
          "Facebook",
          "Instagram",
          "Facebook",
          "Instagram",
          "Facebook",
          "Instagram",
          "Facebook",
          "Instagram",
          "Facebook",
          "Instagram",
          "Facebook",
          "Instagram",
          "Facebook",
          "Instagram",
          "Facebook",
          "Instagram",
          "Facebook",
          "Instagram",
          "Facebook",
          "Instagram",
          "Facebook",
          "Instagram",
          "Facebook",
          "Instagram",
          "Facebook",
          "Instagram",
          "Facebook",
          "Instagram",
          "Facebook",
          "Instagram",
          "Facebook",
          "Instagram",
          "Facebook",
          "Instagram",
          "Facebook",
          "Instagram",
          "Facebook",
          "Instagram",
          "Facebook",
          "Instagram",
          "Facebook",
          "Instagram",
          "Facebook",
          "Instagram",
          "Facebook",
          "Instagram",
          "Facebook",
          "Instagram",
          "Facebook",
          "Instagram",
          "Facebook",
          "Instagram",
          "Facebook",
          "Instagram",
          "Facebook",
          "Instagram",
          "Facebook",
          "Instagram",
          "Facebook"
         ],
         "yaxis": "y5",
         "ybingroup": "y",
         "z": [
          3,
          6,
          1,
          8,
          2,
          8,
          2,
          3,
          3,
          6,
          2,
          8,
          1,
          8,
          1,
          11,
          1,
          12,
          2,
          5,
          3,
          16,
          4,
          5,
          1,
          33,
          5,
          25,
          5,
          16,
          3,
          21,
          4,
          9,
          3,
          14,
          3,
          7,
          1,
          9,
          1,
          8,
          2,
          9,
          1,
          14,
          5,
          6,
          1,
          10,
          1,
          12,
          4,
          9,
          2,
          27,
          9,
          23,
          14,
          25,
          2,
          14,
          4,
          12,
          1,
          6,
          5,
          8,
          8,
          20,
          4,
          26,
          6,
          18,
          2,
          13,
          3,
          17,
          1,
          14,
          5,
          4
         ]
        },
        {
         "coloraxis": "coloraxis",
         "histfunc": "sum",
         "hovertemplate": "party=die_gruenen<br>Date=%{x}<br>Platform=%{y}<br>sum of Number of Posts=%{z}<extra></extra>",
         "name": "",
         "type": "histogram2d",
         "x": [
          "2021-08-16",
          "2021-08-17",
          "2021-08-17",
          "2021-08-18",
          "2021-08-18",
          "2021-08-19",
          "2021-08-19",
          "2021-08-20",
          "2021-08-20",
          "2021-08-21",
          "2021-08-21",
          "2021-08-22",
          "2021-08-22",
          "2021-08-23",
          "2021-08-23",
          "2021-08-24",
          "2021-08-25",
          "2021-08-25",
          "2021-08-26",
          "2021-08-26",
          "2021-08-27",
          "2021-08-27",
          "2021-08-28",
          "2021-08-29",
          "2021-08-29",
          "2021-08-30",
          "2021-08-30",
          "2021-08-31",
          "2021-08-31",
          "2021-09-01",
          "2021-09-02",
          "2021-09-02",
          "2021-09-03",
          "2021-09-03",
          "2021-09-04",
          "2021-09-04",
          "2021-09-05",
          "2021-09-05",
          "2021-09-06",
          "2021-09-06",
          "2021-09-07",
          "2021-09-07",
          "2021-09-08",
          "2021-09-08",
          "2021-09-09",
          "2021-09-09",
          "2021-09-10",
          "2021-09-10",
          "2021-09-11",
          "2021-09-11",
          "2021-09-12",
          "2021-09-12",
          "2021-09-13",
          "2021-09-13",
          "2021-09-14",
          "2021-09-15",
          "2021-09-15",
          "2021-09-16",
          "2021-09-16",
          "2021-09-17",
          "2021-09-17",
          "2021-09-18",
          "2021-09-18",
          "2021-09-19",
          "2021-09-19",
          "2021-09-20",
          "2021-09-20",
          "2021-09-21",
          "2021-09-21",
          "2021-09-22",
          "2021-09-22",
          "2021-09-23",
          "2021-09-23",
          "2021-09-24",
          "2021-09-24",
          "2021-09-25",
          "2021-09-25",
          "2021-09-26",
          "2021-09-26"
         ],
         "xaxis": "x4",
         "xbingroup": "x",
         "y": [
          "Facebook",
          "Facebook",
          "Instagram",
          "Facebook",
          "Instagram",
          "Facebook",
          "Instagram",
          "Facebook",
          "Instagram",
          "Facebook",
          "Instagram",
          "Facebook",
          "Instagram",
          "Facebook",
          "Instagram",
          "Facebook",
          "Facebook",
          "Instagram",
          "Facebook",
          "Instagram",
          "Facebook",
          "Instagram",
          "Facebook",
          "Facebook",
          "Instagram",
          "Facebook",
          "Instagram",
          "Facebook",
          "Instagram",
          "Facebook",
          "Facebook",
          "Instagram",
          "Facebook",
          "Instagram",
          "Facebook",
          "Instagram",
          "Facebook",
          "Instagram",
          "Facebook",
          "Instagram",
          "Facebook",
          "Instagram",
          "Facebook",
          "Instagram",
          "Facebook",
          "Instagram",
          "Facebook",
          "Instagram",
          "Facebook",
          "Instagram",
          "Facebook",
          "Instagram",
          "Facebook",
          "Instagram",
          "Facebook",
          "Facebook",
          "Instagram",
          "Facebook",
          "Instagram",
          "Facebook",
          "Instagram",
          "Facebook",
          "Instagram",
          "Facebook",
          "Instagram",
          "Facebook",
          "Instagram",
          "Facebook",
          "Instagram",
          "Facebook",
          "Instagram",
          "Facebook",
          "Instagram",
          "Facebook",
          "Instagram",
          "Facebook",
          "Instagram",
          "Facebook",
          "Instagram"
         ],
         "yaxis": "y4",
         "ybingroup": "y",
         "z": [
          33,
          29,
          3,
          39,
          4,
          44,
          5,
          40,
          1,
          22,
          1,
          17,
          1,
          61,
          4,
          46,
          29,
          2,
          54,
          4,
          29,
          3,
          28,
          24,
          1,
          39,
          3,
          25,
          2,
          37,
          48,
          1,
          57,
          5,
          39,
          1,
          58,
          3,
          77,
          2,
          63,
          4,
          66,
          6,
          89,
          5,
          72,
          3,
          30,
          2,
          23,
          3,
          31,
          7,
          38,
          55,
          4,
          33,
          1,
          48,
          5,
          45,
          2,
          47,
          7,
          57,
          3,
          59,
          8,
          77,
          7,
          69,
          10,
          98,
          11,
          95,
          12,
          132,
          19
         ]
        },
        {
         "coloraxis": "coloraxis",
         "histfunc": "sum",
         "hovertemplate": "party=die_linke<br>Date=%{x}<br>Platform=%{y}<br>sum of Number of Posts=%{z}<extra></extra>",
         "name": "",
         "type": "histogram2d",
         "x": [
          "2021-08-16",
          "2021-08-16",
          "2021-08-17",
          "2021-08-17",
          "2021-08-18",
          "2021-08-18",
          "2021-08-19",
          "2021-08-19",
          "2021-08-20",
          "2021-08-20",
          "2021-08-21",
          "2021-08-21",
          "2021-08-22",
          "2021-08-22",
          "2021-08-23",
          "2021-08-24",
          "2021-08-24",
          "2021-08-25",
          "2021-08-25",
          "2021-08-26",
          "2021-08-26",
          "2021-08-27",
          "2021-08-27",
          "2021-08-28",
          "2021-08-29",
          "2021-08-29",
          "2021-08-30",
          "2021-08-30",
          "2021-08-31",
          "2021-08-31",
          "2021-09-01",
          "2021-09-01",
          "2021-09-02",
          "2021-09-02",
          "2021-09-03",
          "2021-09-03",
          "2021-09-04",
          "2021-09-04",
          "2021-09-05",
          "2021-09-05",
          "2021-09-06",
          "2021-09-06",
          "2021-09-07",
          "2021-09-07",
          "2021-09-08",
          "2021-09-08",
          "2021-09-09",
          "2021-09-09",
          "2021-09-10",
          "2021-09-10",
          "2021-09-11",
          "2021-09-11",
          "2021-09-12",
          "2021-09-12",
          "2021-09-13",
          "2021-09-13",
          "2021-09-14",
          "2021-09-14",
          "2021-09-15",
          "2021-09-15",
          "2021-09-16",
          "2021-09-16",
          "2021-09-17",
          "2021-09-17",
          "2021-09-18",
          "2021-09-18",
          "2021-09-19",
          "2021-09-19",
          "2021-09-20",
          "2021-09-20",
          "2021-09-21",
          "2021-09-22",
          "2021-09-22",
          "2021-09-23",
          "2021-09-23",
          "2021-09-23",
          "2021-09-24",
          "2021-09-24",
          "2021-09-25",
          "2021-09-25",
          "2021-09-26",
          "2021-09-26"
         ],
         "xaxis": "x3",
         "xbingroup": "x",
         "y": [
          "Facebook",
          "Instagram",
          "Facebook",
          "Instagram",
          "Facebook",
          "Instagram",
          "Facebook",
          "Instagram",
          "Facebook",
          "Instagram",
          "Facebook",
          "Instagram",
          "Facebook",
          "Instagram",
          "Facebook",
          "Facebook",
          "Instagram",
          "Facebook",
          "Instagram",
          "Facebook",
          "Instagram",
          "Facebook",
          "Instagram",
          "Facebook",
          "Facebook",
          "Instagram",
          "Facebook",
          "Instagram",
          "Facebook",
          "Instagram",
          "Facebook",
          "Instagram",
          "Facebook",
          "Instagram",
          "Facebook",
          "Instagram",
          "Facebook",
          "Instagram",
          "Facebook",
          "Instagram",
          "Facebook",
          "Instagram",
          "Facebook",
          "Instagram",
          "Facebook",
          "Instagram",
          "Facebook",
          "Instagram",
          "Facebook",
          "Instagram",
          "Facebook",
          "Instagram",
          "Facebook",
          "Instagram",
          "Facebook",
          "Instagram",
          "Facebook",
          "Instagram",
          "Facebook",
          "Instagram",
          "Facebook",
          "Instagram",
          "Facebook",
          "Instagram",
          "Facebook",
          "Instagram",
          "Facebook",
          "Instagram",
          "Facebook",
          "Instagram",
          "Facebook",
          "Facebook",
          "Instagram",
          "Facebook",
          "Instagram",
          "Twitter",
          "Facebook",
          "Instagram",
          "Facebook",
          "Instagram",
          "Facebook",
          "Instagram"
         ],
         "yaxis": "y3",
         "ybingroup": "y",
         "z": [
          12,
          1,
          14,
          2,
          5,
          1,
          14,
          3,
          12,
          1,
          20,
          2,
          10,
          2,
          5,
          13,
          2,
          15,
          1,
          11,
          2,
          5,
          3,
          8,
          8,
          2,
          25,
          2,
          11,
          1,
          20,
          5,
          23,
          1,
          8,
          2,
          14,
          1,
          11,
          2,
          32,
          19,
          21,
          2,
          24,
          4,
          34,
          10,
          28,
          8,
          24,
          8,
          27,
          2,
          36,
          7,
          21,
          6,
          31,
          6,
          17,
          1,
          9,
          2,
          14,
          1,
          18,
          2,
          16,
          12,
          15,
          22,
          4,
          40,
          9,
          1,
          51,
          17,
          32,
          21,
          35,
          14
         ]
        },
        {
         "coloraxis": "coloraxis",
         "histfunc": "sum",
         "hovertemplate": "party=fdp<br>Date=%{x}<br>Platform=%{y}<br>sum of Number of Posts=%{z}<extra></extra>",
         "name": "",
         "type": "histogram2d",
         "x": [
          "2021-08-16",
          "2021-08-17",
          "2021-08-17",
          "2021-08-18",
          "2021-08-19",
          "2021-08-19",
          "2021-08-20",
          "2021-08-20",
          "2021-08-21",
          "2021-08-21",
          "2021-08-22",
          "2021-08-22",
          "2021-08-23",
          "2021-08-23",
          "2021-08-24",
          "2021-08-24",
          "2021-08-25",
          "2021-08-25",
          "2021-08-26",
          "2021-08-26",
          "2021-08-27",
          "2021-08-27",
          "2021-08-28",
          "2021-08-28",
          "2021-08-29",
          "2021-08-30",
          "2021-08-30",
          "2021-08-31",
          "2021-08-31",
          "2021-09-01",
          "2021-09-01",
          "2021-09-02",
          "2021-09-03",
          "2021-09-03",
          "2021-09-04",
          "2021-09-05",
          "2021-09-05",
          "2021-09-06",
          "2021-09-07",
          "2021-09-08",
          "2021-09-09",
          "2021-09-09",
          "2021-09-10",
          "2021-09-10",
          "2021-09-11",
          "2021-09-11",
          "2021-09-12",
          "2021-09-12",
          "2021-09-13",
          "2021-09-13",
          "2021-09-14",
          "2021-09-14",
          "2021-09-15",
          "2021-09-16",
          "2021-09-16",
          "2021-09-17",
          "2021-09-17",
          "2021-09-18",
          "2021-09-18",
          "2021-09-19",
          "2021-09-19",
          "2021-09-20",
          "2021-09-20",
          "2021-09-21",
          "2021-09-21",
          "2021-09-22",
          "2021-09-22",
          "2021-09-23",
          "2021-09-23",
          "2021-09-24",
          "2021-09-24",
          "2021-09-25",
          "2021-09-25",
          "2021-09-26",
          "2021-09-26"
         ],
         "xaxis": "x2",
         "xbingroup": "x",
         "y": [
          "Facebook",
          "Facebook",
          "Instagram",
          "Facebook",
          "Facebook",
          "Instagram",
          "Facebook",
          "Instagram",
          "Facebook",
          "Instagram",
          "Facebook",
          "Instagram",
          "Facebook",
          "Instagram",
          "Facebook",
          "Instagram",
          "Facebook",
          "Instagram",
          "Facebook",
          "Instagram",
          "Facebook",
          "Instagram",
          "Facebook",
          "Instagram",
          "Facebook",
          "Facebook",
          "Instagram",
          "Facebook",
          "Instagram",
          "Facebook",
          "Instagram",
          "Facebook",
          "Facebook",
          "Instagram",
          "Facebook",
          "Facebook",
          "Instagram",
          "Facebook",
          "Facebook",
          "Facebook",
          "Facebook",
          "Instagram",
          "Facebook",
          "Instagram",
          "Facebook",
          "Instagram",
          "Facebook",
          "Instagram",
          "Facebook",
          "Instagram",
          "Facebook",
          "Instagram",
          "Facebook",
          "Facebook",
          "Instagram",
          "Facebook",
          "Instagram",
          "Facebook",
          "Instagram",
          "Facebook",
          "Instagram",
          "Facebook",
          "Instagram",
          "Facebook",
          "Instagram",
          "Facebook",
          "Instagram",
          "Facebook",
          "Instagram",
          "Facebook",
          "Instagram",
          "Facebook",
          "Instagram",
          "Facebook",
          "Instagram"
         ],
         "yaxis": "y2",
         "ybingroup": "y",
         "z": [
          1,
          2,
          1,
          6,
          8,
          3,
          13,
          2,
          3,
          1,
          4,
          2,
          7,
          2,
          7,
          1,
          6,
          2,
          7,
          3,
          10,
          1,
          11,
          1,
          5,
          14,
          1,
          16,
          4,
          4,
          4,
          13,
          16,
          3,
          3,
          6,
          1,
          5,
          5,
          4,
          4,
          2,
          9,
          1,
          10,
          1,
          6,
          1,
          15,
          2,
          16,
          2,
          8,
          11,
          4,
          13,
          1,
          5,
          2,
          5,
          1,
          10,
          5,
          12,
          3,
          17,
          6,
          13,
          3,
          65,
          5,
          36,
          2,
          20,
          2
         ]
        },
        {
         "coloraxis": "coloraxis",
         "histfunc": "sum",
         "hovertemplate": "party=spd<br>Date=%{x}<br>Platform=%{y}<br>sum of Number of Posts=%{z}<extra></extra>",
         "name": "",
         "type": "histogram2d",
         "x": [
          "2021-08-16",
          "2021-08-17",
          "2021-08-18",
          "2021-08-19",
          "2021-08-19",
          "2021-08-20",
          "2021-08-21",
          "2021-08-22",
          "2021-08-23",
          "2021-08-24",
          "2021-08-24",
          "2021-08-25",
          "2021-08-25",
          "2021-08-26",
          "2021-08-26",
          "2021-08-27",
          "2021-08-28",
          "2021-08-29",
          "2021-08-29",
          "2021-08-30",
          "2021-08-30",
          "2021-08-31",
          "2021-08-31",
          "2021-09-01",
          "2021-09-01",
          "2021-09-02",
          "2021-09-02",
          "2021-09-03",
          "2021-09-03",
          "2021-09-04",
          "2021-09-04",
          "2021-09-05",
          "2021-09-06",
          "2021-09-06",
          "2021-09-07",
          "2021-09-07",
          "2021-09-08",
          "2021-09-08",
          "2021-09-09",
          "2021-09-09",
          "2021-09-10",
          "2021-09-11",
          "2021-09-11",
          "2021-09-12",
          "2021-09-12",
          "2021-09-13",
          "2021-09-13",
          "2021-09-14",
          "2021-09-15",
          "2021-09-15",
          "2021-09-16",
          "2021-09-16",
          "2021-09-17",
          "2021-09-17",
          "2021-09-18",
          "2021-09-18",
          "2021-09-19",
          "2021-09-19",
          "2021-09-20",
          "2021-09-21",
          "2021-09-21",
          "2021-09-22",
          "2021-09-22",
          "2021-09-23",
          "2021-09-23",
          "2021-09-24",
          "2021-09-24",
          "2021-09-25",
          "2021-09-25",
          "2021-09-26",
          "2021-09-26"
         ],
         "xaxis": "x",
         "xbingroup": "x",
         "y": [
          "Facebook",
          "Facebook",
          "Facebook",
          "Facebook",
          "Instagram",
          "Facebook",
          "Facebook",
          "Facebook",
          "Facebook",
          "Facebook",
          "Instagram",
          "Facebook",
          "Instagram",
          "Facebook",
          "Instagram",
          "Facebook",
          "Facebook",
          "Facebook",
          "Instagram",
          "Facebook",
          "Instagram",
          "Facebook",
          "Instagram",
          "Facebook",
          "Instagram",
          "Facebook",
          "Instagram",
          "Facebook",
          "Instagram",
          "Facebook",
          "Instagram",
          "Facebook",
          "Facebook",
          "Instagram",
          "Facebook",
          "Instagram",
          "Facebook",
          "Instagram",
          "Facebook",
          "Instagram",
          "Facebook",
          "Facebook",
          "Instagram",
          "Facebook",
          "Instagram",
          "Facebook",
          "Instagram",
          "Facebook",
          "Facebook",
          "Instagram",
          "Facebook",
          "Instagram",
          "Facebook",
          "Instagram",
          "Facebook",
          "Instagram",
          "Facebook",
          "Instagram",
          "Facebook",
          "Facebook",
          "Instagram",
          "Facebook",
          "Instagram",
          "Facebook",
          "Instagram",
          "Facebook",
          "Instagram",
          "Facebook",
          "Instagram",
          "Facebook",
          "Instagram"
         ],
         "yaxis": "y",
         "ybingroup": "y",
         "z": [
          11,
          6,
          10,
          13,
          1,
          21,
          13,
          7,
          10,
          10,
          1,
          21,
          1,
          23,
          1,
          16,
          12,
          87,
          3,
          34,
          6,
          15,
          2,
          9,
          1,
          14,
          1,
          9,
          1,
          10,
          2,
          8,
          29,
          2,
          31,
          1,
          14,
          2,
          22,
          2,
          11,
          10,
          3,
          26,
          7,
          16,
          1,
          8,
          13,
          2,
          10,
          2,
          35,
          2,
          27,
          1,
          25,
          1,
          38,
          33,
          1,
          25,
          2,
          29,
          3,
          23,
          2,
          30,
          4,
          25,
          7
         ]
        }
       ],
       "layout": {
        "annotations": [
         {
          "font": {},
          "showarrow": false,
          "text": "party=spd",
          "textangle": 90,
          "x": 0.98,
          "xanchor": "left",
          "xref": "paper",
          "y": 0.07083333333333333,
          "yanchor": "middle",
          "yref": "paper"
         },
         {
          "font": {},
          "showarrow": false,
          "text": "party=fdp",
          "textangle": 90,
          "x": 0.98,
          "xanchor": "left",
          "xref": "paper",
          "y": 0.2425,
          "yanchor": "middle",
          "yref": "paper"
         },
         {
          "font": {},
          "showarrow": false,
          "text": "party=die_linke",
          "textangle": 90,
          "x": 0.98,
          "xanchor": "left",
          "xref": "paper",
          "y": 0.4141666666666667,
          "yanchor": "middle",
          "yref": "paper"
         },
         {
          "font": {},
          "showarrow": false,
          "text": "party=die_gruenen",
          "textangle": 90,
          "x": 0.98,
          "xanchor": "left",
          "xref": "paper",
          "y": 0.5858333333333334,
          "yanchor": "middle",
          "yref": "paper"
         },
         {
          "font": {},
          "showarrow": false,
          "text": "party=cdu_csu",
          "textangle": 90,
          "x": 0.98,
          "xanchor": "left",
          "xref": "paper",
          "y": 0.7575000000000001,
          "yanchor": "middle",
          "yref": "paper"
         },
         {
          "font": {},
          "showarrow": false,
          "text": "party=afd",
          "textangle": 90,
          "x": 0.98,
          "xanchor": "left",
          "xref": "paper",
          "y": 0.9291666666666667,
          "yanchor": "middle",
          "yref": "paper"
         }
        ],
        "coloraxis": {
         "colorbar": {
          "title": {
           "text": "Post Frequency"
          }
         },
         "colorscale": [
          [
           0,
           "#440154"
          ],
          [
           0.1111111111111111,
           "#482878"
          ],
          [
           0.2222222222222222,
           "#3e4989"
          ],
          [
           0.3333333333333333,
           "#31688e"
          ],
          [
           0.4444444444444444,
           "#26828e"
          ],
          [
           0.5555555555555556,
           "#1f9e89"
          ],
          [
           0.6666666666666666,
           "#35b779"
          ],
          [
           0.7777777777777778,
           "#6ece58"
          ],
          [
           0.8888888888888888,
           "#b5de2b"
          ],
          [
           1,
           "#fde725"
          ]
         ]
        },
        "height": 800,
        "legend": {
         "tracegroupgap": 0
        },
        "template": {
         "data": {
          "bar": [
           {
            "error_x": {
             "color": "#2a3f5f"
            },
            "error_y": {
             "color": "#2a3f5f"
            },
            "marker": {
             "line": {
              "color": "#E5ECF6",
              "width": 0.5
             },
             "pattern": {
              "fillmode": "overlay",
              "size": 10,
              "solidity": 0.2
             }
            },
            "type": "bar"
           }
          ],
          "barpolar": [
           {
            "marker": {
             "line": {
              "color": "#E5ECF6",
              "width": 0.5
             },
             "pattern": {
              "fillmode": "overlay",
              "size": 10,
              "solidity": 0.2
             }
            },
            "type": "barpolar"
           }
          ],
          "carpet": [
           {
            "aaxis": {
             "endlinecolor": "#2a3f5f",
             "gridcolor": "white",
             "linecolor": "white",
             "minorgridcolor": "white",
             "startlinecolor": "#2a3f5f"
            },
            "baxis": {
             "endlinecolor": "#2a3f5f",
             "gridcolor": "white",
             "linecolor": "white",
             "minorgridcolor": "white",
             "startlinecolor": "#2a3f5f"
            },
            "type": "carpet"
           }
          ],
          "choropleth": [
           {
            "colorbar": {
             "outlinewidth": 0,
             "ticks": ""
            },
            "type": "choropleth"
           }
          ],
          "contour": [
           {
            "colorbar": {
             "outlinewidth": 0,
             "ticks": ""
            },
            "colorscale": [
             [
              0,
              "#0d0887"
             ],
             [
              0.1111111111111111,
              "#46039f"
             ],
             [
              0.2222222222222222,
              "#7201a8"
             ],
             [
              0.3333333333333333,
              "#9c179e"
             ],
             [
              0.4444444444444444,
              "#bd3786"
             ],
             [
              0.5555555555555556,
              "#d8576b"
             ],
             [
              0.6666666666666666,
              "#ed7953"
             ],
             [
              0.7777777777777778,
              "#fb9f3a"
             ],
             [
              0.8888888888888888,
              "#fdca26"
             ],
             [
              1,
              "#f0f921"
             ]
            ],
            "type": "contour"
           }
          ],
          "contourcarpet": [
           {
            "colorbar": {
             "outlinewidth": 0,
             "ticks": ""
            },
            "type": "contourcarpet"
           }
          ],
          "heatmap": [
           {
            "colorbar": {
             "outlinewidth": 0,
             "ticks": ""
            },
            "colorscale": [
             [
              0,
              "#0d0887"
             ],
             [
              0.1111111111111111,
              "#46039f"
             ],
             [
              0.2222222222222222,
              "#7201a8"
             ],
             [
              0.3333333333333333,
              "#9c179e"
             ],
             [
              0.4444444444444444,
              "#bd3786"
             ],
             [
              0.5555555555555556,
              "#d8576b"
             ],
             [
              0.6666666666666666,
              "#ed7953"
             ],
             [
              0.7777777777777778,
              "#fb9f3a"
             ],
             [
              0.8888888888888888,
              "#fdca26"
             ],
             [
              1,
              "#f0f921"
             ]
            ],
            "type": "heatmap"
           }
          ],
          "heatmapgl": [
           {
            "colorbar": {
             "outlinewidth": 0,
             "ticks": ""
            },
            "colorscale": [
             [
              0,
              "#0d0887"
             ],
             [
              0.1111111111111111,
              "#46039f"
             ],
             [
              0.2222222222222222,
              "#7201a8"
             ],
             [
              0.3333333333333333,
              "#9c179e"
             ],
             [
              0.4444444444444444,
              "#bd3786"
             ],
             [
              0.5555555555555556,
              "#d8576b"
             ],
             [
              0.6666666666666666,
              "#ed7953"
             ],
             [
              0.7777777777777778,
              "#fb9f3a"
             ],
             [
              0.8888888888888888,
              "#fdca26"
             ],
             [
              1,
              "#f0f921"
             ]
            ],
            "type": "heatmapgl"
           }
          ],
          "histogram": [
           {
            "marker": {
             "pattern": {
              "fillmode": "overlay",
              "size": 10,
              "solidity": 0.2
             }
            },
            "type": "histogram"
           }
          ],
          "histogram2d": [
           {
            "colorbar": {
             "outlinewidth": 0,
             "ticks": ""
            },
            "colorscale": [
             [
              0,
              "#0d0887"
             ],
             [
              0.1111111111111111,
              "#46039f"
             ],
             [
              0.2222222222222222,
              "#7201a8"
             ],
             [
              0.3333333333333333,
              "#9c179e"
             ],
             [
              0.4444444444444444,
              "#bd3786"
             ],
             [
              0.5555555555555556,
              "#d8576b"
             ],
             [
              0.6666666666666666,
              "#ed7953"
             ],
             [
              0.7777777777777778,
              "#fb9f3a"
             ],
             [
              0.8888888888888888,
              "#fdca26"
             ],
             [
              1,
              "#f0f921"
             ]
            ],
            "type": "histogram2d"
           }
          ],
          "histogram2dcontour": [
           {
            "colorbar": {
             "outlinewidth": 0,
             "ticks": ""
            },
            "colorscale": [
             [
              0,
              "#0d0887"
             ],
             [
              0.1111111111111111,
              "#46039f"
             ],
             [
              0.2222222222222222,
              "#7201a8"
             ],
             [
              0.3333333333333333,
              "#9c179e"
             ],
             [
              0.4444444444444444,
              "#bd3786"
             ],
             [
              0.5555555555555556,
              "#d8576b"
             ],
             [
              0.6666666666666666,
              "#ed7953"
             ],
             [
              0.7777777777777778,
              "#fb9f3a"
             ],
             [
              0.8888888888888888,
              "#fdca26"
             ],
             [
              1,
              "#f0f921"
             ]
            ],
            "type": "histogram2dcontour"
           }
          ],
          "mesh3d": [
           {
            "colorbar": {
             "outlinewidth": 0,
             "ticks": ""
            },
            "type": "mesh3d"
           }
          ],
          "parcoords": [
           {
            "line": {
             "colorbar": {
              "outlinewidth": 0,
              "ticks": ""
             }
            },
            "type": "parcoords"
           }
          ],
          "pie": [
           {
            "automargin": true,
            "type": "pie"
           }
          ],
          "scatter": [
           {
            "fillpattern": {
             "fillmode": "overlay",
             "size": 10,
             "solidity": 0.2
            },
            "type": "scatter"
           }
          ],
          "scatter3d": [
           {
            "line": {
             "colorbar": {
              "outlinewidth": 0,
              "ticks": ""
             }
            },
            "marker": {
             "colorbar": {
              "outlinewidth": 0,
              "ticks": ""
             }
            },
            "type": "scatter3d"
           }
          ],
          "scattercarpet": [
           {
            "marker": {
             "colorbar": {
              "outlinewidth": 0,
              "ticks": ""
             }
            },
            "type": "scattercarpet"
           }
          ],
          "scattergeo": [
           {
            "marker": {
             "colorbar": {
              "outlinewidth": 0,
              "ticks": ""
             }
            },
            "type": "scattergeo"
           }
          ],
          "scattergl": [
           {
            "marker": {
             "colorbar": {
              "outlinewidth": 0,
              "ticks": ""
             }
            },
            "type": "scattergl"
           }
          ],
          "scattermapbox": [
           {
            "marker": {
             "colorbar": {
              "outlinewidth": 0,
              "ticks": ""
             }
            },
            "type": "scattermapbox"
           }
          ],
          "scatterpolar": [
           {
            "marker": {
             "colorbar": {
              "outlinewidth": 0,
              "ticks": ""
             }
            },
            "type": "scatterpolar"
           }
          ],
          "scatterpolargl": [
           {
            "marker": {
             "colorbar": {
              "outlinewidth": 0,
              "ticks": ""
             }
            },
            "type": "scatterpolargl"
           }
          ],
          "scatterternary": [
           {
            "marker": {
             "colorbar": {
              "outlinewidth": 0,
              "ticks": ""
             }
            },
            "type": "scatterternary"
           }
          ],
          "surface": [
           {
            "colorbar": {
             "outlinewidth": 0,
             "ticks": ""
            },
            "colorscale": [
             [
              0,
              "#0d0887"
             ],
             [
              0.1111111111111111,
              "#46039f"
             ],
             [
              0.2222222222222222,
              "#7201a8"
             ],
             [
              0.3333333333333333,
              "#9c179e"
             ],
             [
              0.4444444444444444,
              "#bd3786"
             ],
             [
              0.5555555555555556,
              "#d8576b"
             ],
             [
              0.6666666666666666,
              "#ed7953"
             ],
             [
              0.7777777777777778,
              "#fb9f3a"
             ],
             [
              0.8888888888888888,
              "#fdca26"
             ],
             [
              1,
              "#f0f921"
             ]
            ],
            "type": "surface"
           }
          ],
          "table": [
           {
            "cells": {
             "fill": {
              "color": "#EBF0F8"
             },
             "line": {
              "color": "white"
             }
            },
            "header": {
             "fill": {
              "color": "#C8D4E3"
             },
             "line": {
              "color": "white"
             }
            },
            "type": "table"
           }
          ]
         },
         "layout": {
          "annotationdefaults": {
           "arrowcolor": "#2a3f5f",
           "arrowhead": 0,
           "arrowwidth": 1
          },
          "autotypenumbers": "strict",
          "coloraxis": {
           "colorbar": {
            "outlinewidth": 0,
            "ticks": ""
           }
          },
          "colorscale": {
           "diverging": [
            [
             0,
             "#8e0152"
            ],
            [
             0.1,
             "#c51b7d"
            ],
            [
             0.2,
             "#de77ae"
            ],
            [
             0.3,
             "#f1b6da"
            ],
            [
             0.4,
             "#fde0ef"
            ],
            [
             0.5,
             "#f7f7f7"
            ],
            [
             0.6,
             "#e6f5d0"
            ],
            [
             0.7,
             "#b8e186"
            ],
            [
             0.8,
             "#7fbc41"
            ],
            [
             0.9,
             "#4d9221"
            ],
            [
             1,
             "#276419"
            ]
           ],
           "sequential": [
            [
             0,
             "#0d0887"
            ],
            [
             0.1111111111111111,
             "#46039f"
            ],
            [
             0.2222222222222222,
             "#7201a8"
            ],
            [
             0.3333333333333333,
             "#9c179e"
            ],
            [
             0.4444444444444444,
             "#bd3786"
            ],
            [
             0.5555555555555556,
             "#d8576b"
            ],
            [
             0.6666666666666666,
             "#ed7953"
            ],
            [
             0.7777777777777778,
             "#fb9f3a"
            ],
            [
             0.8888888888888888,
             "#fdca26"
            ],
            [
             1,
             "#f0f921"
            ]
           ],
           "sequentialminus": [
            [
             0,
             "#0d0887"
            ],
            [
             0.1111111111111111,
             "#46039f"
            ],
            [
             0.2222222222222222,
             "#7201a8"
            ],
            [
             0.3333333333333333,
             "#9c179e"
            ],
            [
             0.4444444444444444,
             "#bd3786"
            ],
            [
             0.5555555555555556,
             "#d8576b"
            ],
            [
             0.6666666666666666,
             "#ed7953"
            ],
            [
             0.7777777777777778,
             "#fb9f3a"
            ],
            [
             0.8888888888888888,
             "#fdca26"
            ],
            [
             1,
             "#f0f921"
            ]
           ]
          },
          "colorway": [
           "#636efa",
           "#EF553B",
           "#00cc96",
           "#ab63fa",
           "#FFA15A",
           "#19d3f3",
           "#FF6692",
           "#B6E880",
           "#FF97FF",
           "#FECB52"
          ],
          "font": {
           "color": "#2a3f5f"
          },
          "geo": {
           "bgcolor": "white",
           "lakecolor": "white",
           "landcolor": "#E5ECF6",
           "showlakes": true,
           "showland": true,
           "subunitcolor": "white"
          },
          "hoverlabel": {
           "align": "left"
          },
          "hovermode": "closest",
          "mapbox": {
           "style": "light"
          },
          "paper_bgcolor": "white",
          "plot_bgcolor": "#E5ECF6",
          "polar": {
           "angularaxis": {
            "gridcolor": "white",
            "linecolor": "white",
            "ticks": ""
           },
           "bgcolor": "#E5ECF6",
           "radialaxis": {
            "gridcolor": "white",
            "linecolor": "white",
            "ticks": ""
           }
          },
          "scene": {
           "xaxis": {
            "backgroundcolor": "#E5ECF6",
            "gridcolor": "white",
            "gridwidth": 2,
            "linecolor": "white",
            "showbackground": true,
            "ticks": "",
            "zerolinecolor": "white"
           },
           "yaxis": {
            "backgroundcolor": "#E5ECF6",
            "gridcolor": "white",
            "gridwidth": 2,
            "linecolor": "white",
            "showbackground": true,
            "ticks": "",
            "zerolinecolor": "white"
           },
           "zaxis": {
            "backgroundcolor": "#E5ECF6",
            "gridcolor": "white",
            "gridwidth": 2,
            "linecolor": "white",
            "showbackground": true,
            "ticks": "",
            "zerolinecolor": "white"
           }
          },
          "shapedefaults": {
           "line": {
            "color": "#2a3f5f"
           }
          },
          "ternary": {
           "aaxis": {
            "gridcolor": "white",
            "linecolor": "white",
            "ticks": ""
           },
           "baxis": {
            "gridcolor": "white",
            "linecolor": "white",
            "ticks": ""
           },
           "bgcolor": "#E5ECF6",
           "caxis": {
            "gridcolor": "white",
            "linecolor": "white",
            "ticks": ""
           }
          },
          "title": {
           "x": 0.05
          },
          "xaxis": {
           "automargin": true,
           "gridcolor": "white",
           "linecolor": "white",
           "ticks": "",
           "title": {
            "standoff": 15
           },
           "zerolinecolor": "white",
           "zerolinewidth": 2
          },
          "yaxis": {
           "automargin": true,
           "gridcolor": "white",
           "linecolor": "white",
           "ticks": "",
           "title": {
            "standoff": 15
           },
           "zerolinecolor": "white",
           "zerolinewidth": 2
          }
         }
        },
        "title": {
         "text": "Cross-Platform Post Frequency Heatmap by Party"
        },
        "width": 1000,
        "xaxis": {
         "anchor": "y",
         "domain": [
          0,
          0.98
         ],
         "title": {
          "text": "Date"
         }
        },
        "xaxis2": {
         "anchor": "y2",
         "domain": [
          0,
          0.98
         ],
         "matches": "x",
         "showticklabels": false
        },
        "xaxis3": {
         "anchor": "y3",
         "domain": [
          0,
          0.98
         ],
         "matches": "x",
         "showticklabels": false
        },
        "xaxis4": {
         "anchor": "y4",
         "domain": [
          0,
          0.98
         ],
         "matches": "x",
         "showticklabels": false
        },
        "xaxis5": {
         "anchor": "y5",
         "domain": [
          0,
          0.98
         ],
         "matches": "x",
         "showticklabels": false
        },
        "xaxis6": {
         "anchor": "y6",
         "domain": [
          0,
          0.98
         ],
         "matches": "x",
         "showticklabels": false
        },
        "yaxis": {
         "anchor": "x",
         "domain": [
          0,
          0.14166666666666666
         ],
         "title": {
          "text": "Platform"
         }
        },
        "yaxis2": {
         "anchor": "x2",
         "domain": [
          0.17166666666666666,
          0.31333333333333335
         ],
         "matches": "y",
         "title": {
          "text": "Platform"
         }
        },
        "yaxis3": {
         "anchor": "x3",
         "domain": [
          0.3433333333333333,
          0.485
         ],
         "matches": "y",
         "title": {
          "text": "Platform"
         }
        },
        "yaxis4": {
         "anchor": "x4",
         "domain": [
          0.515,
          0.6566666666666667
         ],
         "matches": "y",
         "title": {
          "text": "Platform"
         }
        },
        "yaxis5": {
         "anchor": "x5",
         "domain": [
          0.6866666666666666,
          0.8283333333333334
         ],
         "matches": "y",
         "title": {
          "text": "Platform"
         }
        },
        "yaxis6": {
         "anchor": "x6",
         "domain": [
          0.8583333333333333,
          1
         ],
         "matches": "y",
         "title": {
          "text": "Platform"
         }
        }
       }
      }
     },
     "metadata": {},
     "output_type": "display_data"
    }
   ],
   "source": [
    "import pandas as pd\n",
    "import plotly.express as px\n",
    "\n",
    "# Load the dataset\n",
    "data = pd.read_csv('../data/outputs/posts_with_party.csv')\n",
    "\n",
    "# Convert timestamp to datetime format and extract the date part for daily aggregation\n",
    "data['timestamp'] = pd.to_datetime(data['timestamp'])\n",
    "data['date'] = data['timestamp'].dt.date\n",
    "\n",
    "# Group by date, platform, and party to get the count of posts\n",
    "post_counts = data.groupby(['date', 'platform', 'party']).size().reset_index(name='post_count')\n",
    "\n",
    "# Generate the heatmap\n",
    "fig = px.density_heatmap(\n",
    "    post_counts, \n",
    "    x='date', \n",
    "    y='platform', \n",
    "    z='post_count',\n",
    "    color_continuous_scale='Viridis',\n",
    "    facet_row='party',  # Separate rows for each party\n",
    "    labels={'date': 'Date', 'platform': 'Platform', 'post_count': 'Number of Posts'},\n",
    "    title='Cross-Platform Post Frequency Heatmap by Party'\n",
    ")\n",
    "\n",
    "# Customize layout\n",
    "fig.update_layout(\n",
    "    height=800, \n",
    "    width=1000,\n",
    "    xaxis_title=\"Date\",\n",
    "    yaxis_title=\"Platform\",\n",
    "    coloraxis_colorbar=dict(title=\"Post Frequency\")\n",
    ")\n",
    "\n",
    "fig.show()\n"
   ]
  }
 ],
 "metadata": {
  "kernelspec": {
   "display_name": "network_vis",
   "language": "python",
   "name": "python3"
  },
  "language_info": {
   "codemirror_mode": {
    "name": "ipython",
    "version": 3
   },
   "file_extension": ".py",
   "mimetype": "text/x-python",
   "name": "python",
   "nbconvert_exporter": "python",
   "pygments_lexer": "ipython3",
   "version": "3.12.6"
  }
 },
 "nbformat": 4,
 "nbformat_minor": 2
}
