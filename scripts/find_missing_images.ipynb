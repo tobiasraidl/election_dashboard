{
 "cells": [
  {
   "cell_type": "code",
   "execution_count": 16,
   "metadata": {},
   "outputs": [
    {
     "name": "stdout",
     "output_type": "stream",
     "text": [
      "346/2731 files missing.\n",
      "Non-existent files: ['ff0b650799b8c813', 'bd0cf1139b4fe026', '8d8c5373a4cc6747', '8557b243ac72d3ac', '07718cdd892de378', 'ffb55303014b897c', 'c37abc160da1d6c9', '69c42b58bf2c7986', '95bf1f48e4071b64', '63ac5092bccbb46b', '5fa1a9a31c561ee1', '0ffbc09c7285b8c6', '5b5324959ca79b4c', '29d30bad96d4a5b2', 'a11e5ef14ca1e19e', '631cf04f63deb40c', '49533794a43a6b5b', '7fa4c9ed0b138383', '97dae925569a2525', '0786bc38cf0a7bb8', '6719789643d9c6c6', '7d8081cd20fefb26', '23c1d3bebcd8502d', '7f9685296ba12e19', '459a99e4b69a6e23', '9932a17d962d7a83', '934d74c9255da6a9', '3773a31154fb9988', '93f0d597264a93e2', '89e7f98036d38d98', 'f7ec29d653892303', 'd90ab73506f42766', '01f197f723a7a216', 'f5746f68694350c6', '1d0c26a53a3a5ee7', 'fd59830770f8d816', '89157ddc66f8c612', '855a7a5bd805b8ea', '23f3b40d160eb4bb', '81697c4bb956a9c5', 'bfcd9de10b0b0323', '214a9ccab4ee756a', '69328cd21de6ac5d', 'ff56674d0464b524', '29daac72ad569607', 'db21fcb2ec034a4e', '3336bc631253cd9c', '7fce118709a5c3b1', '03913cfd4aecec32', 'f13887c836661cde', 'ff0541a1baf8a561', '3726c95869699b93', '93356593b8966d43', 'f18d32738f952b05', '590ea7f05a0794f9', 'fd6c694595b48383', 'f5b5930b7c0b03e4', 'f1e0a90812f7fde0', '7fc83701b499fe01', 'a759868679869a6b', 'f3260dd94d2a527a', '459aba66989ae69a', 'f55f09c2d235216d', 'd706d1e3e903b43c', 'ef25da9901ab948b', '03129e65e4fc98de', '9d606625b1b96575', '1da5b17e6cca0d23', '0342fcfca9a35656', 'bfba838c25cc634c', '4145bae6d8ba461f', 'ef31d4d42bd20b0b', 'ffc6124c03339cf4', 'e39d3a2c9562f458', 'bf7169970b278151', '09df6233fc3f4025', 'b34963b35524b5b2', 'e95e1c93e4633493', 'e11d52e95ee1e146', 'd79303dc92d6c994', 'bbb055565b85ad11', 'e702f97bcee44142', 'ffc903a5138b6c92', '89c383d62c3c7c7c', 'cbbc239e2165f609', 'f3a4059b1f965171', '973d69c9d9a80acc', '616996de86a5a96c', '217fb095834b279d', '817f9f4cf5818871', '77b1ac39494c29d3', 'dfac93a055269c93', 'fd890376ac8d5269', '313afa9c16f68c1c', '219d311ee6c63b71', '816a54daa73cd947', 'efa70862d0a76bc2', '1b237ee6c3e42711', '35284b743339e4db', '2312d48e6fe4f0bc', 'a739598c9566079b', 'ffd61916890d0771', 'd5f08b8d940e6d74', 'e9de876019c6b12e', 'bdbc0bacc859b8a4', '23fc71ca3643b934', 'bf252a1a35699e89', 'a1565e7c7aa134a5', '052bf4526ad585be', 'df4a1209a5b92d73', '6b279baa37925710', '83b8ef1a549e1a47', '5bfaa751589fc440', 'a96b15bf650ba321', '7fb1999c81617c43', '6bd2ed92281eec54', 'cd1236e623fc134d', 'fd0743cb1b61833a', '8dec7870d98386ae', '2d9bd933e6618a31', 'e7661999194eb133', '8773b11b91d3d183', 'ab5336437492e8ae', 'f9df216639221e29', '0193fc2ff44c74b8', '1fb54e22566d33c2', 'a7664932e6875c3c', '6789ad72c9265366', '05b063dc9ee1639e', '091946bbd4e67a1d', '9b05dbbd714aa60a', '81161ee1e8eb5e1e', '2399dc6669d45965', 'af4441fd960871bb', '7f3593e48b13a560', '6d96592c86d2ec4d', 'ffb3550c296c0569', 'a1ca5e59be250bac', 'fdf5a94b07230313', '85e4791bf8d99283', '118b96254f3f67e0', '456d37924d54e9b2', 'b764691b5999981d', '69d9992bb4d2454e', '5fc72d0019a7bf21', '89dcdc2363033cfc', 'd195b9790da26972', '61c7126d36bd9c23', 'ffa5430bb4d2218b', 'fdfc83034725035b', 'bffe63616182830d', '5ba5875ac149a3e9', '97c9639c4df1340b', '4315f45b228fd85d', '0311bda16a6fe0e7', '3f4a94b575834b8a', '3fe09ec0013f72e9', '639d46de38ce3185', '699e92619ccc96e6', '81aa5cfeccc8ac39', '5f5ea989a3e1a960', '1d9760ea9d0a6e5a', 'e99658651e99646e', '89036c9c7ef2a1f4', '5351e486afbd146c', '21f9dc0bf6a909d4', '41fcb4537856e368', '03ecf813edec0359', 'df01d836619e6758', 'ff21a1569b896543', '136d5ca6915372cd', 'c79e9da66679400b', 'ff0121f21bee0734', 'cd96dad2412db6c8', 'b95fbb1c4991292c', '0000000000000000', '7ff6238859990327', '47b199e839cc6a36', 'efcec3343e0b2491', '41c5b07555ccb2f3', 'c9b338c3c55e1c4e', 'e98e345256cb2d72', 'dd3322dd2651ad4a', 'fd3303ccac32d649', '6f68743901f8aba5', '871f386354a71e9c', 'f5d3470b2921ad4b', '7f5721ca1d895907', '7f46d711033e3127', '8f713986611b99ce', '7705cd78f18e3942', '5fa90156b4b45b8b', '27f5190bd49b6a26', 'ff9af18d2109170d', '5b5384971ca1f14f', 'ff4d8aac55463246', 'bf0e051225f1b379', '1153ac2de61ac7ec', '3b524dc47275a396', 'a1619e9e76d38925', 'b768960909b5ecf4', '8b07cfbe874b30a8', '13180da6ddec66d9', '37d8c187a52a4bf1', '0173fe8d8626ca7a', '05a467e9e9b04577', '5b02a9bc5bd6d183', '5df5a381f2238b1c', 'fdb503025b998537', '4b4936979a96e722', '83ca7bd1d01bdc1c', '7fb10db3033d0d13', '017de9dbd7390905', '115da72a1c13b5e7', 'ffa509fc03a16683', '1798251fce60cb67', 'ef6a69680757096c', 'c98d437e72729613', '43c3c34b9c5cbc9c', '25dbedd22c5781c8', 'a1e62a32f41fde88', '3f0ec7c16c7c2b84', '15d16bb4fe4303b4', 'ffb643e409b94303', '775c3de2c32323c1', '8f19e86369963999', '130bfeba29494c76', 'f5d3470b2923a94b', '1be697610816ecde', 'b765238b5a7c9909', '2dde6a315ef20964', '05355edab561caf0', '7ff421b4430919af', '6307bc74d4aad742', '8d7f7222a5a59392', 'a5f8f209860b6eb9', 'edf81327ec833126', '2756dda81328dd9c', '0580b5fcfc5e4b16', 'b3d793d0aa238b13', '959a4ce3b41b1e1d', 'ffb4116d03134397', '693e9cd3a659868c', '4b83153af478fca4', '05b47be48e38eae1', '3de3fc334a198259', '7f92e262987cc1e8', '05f91b36e69819e6', '0143f6f4fab16c0b', '3726e52d9a8cd172', 'eb871e5bc7890c13', '33df8621e952b4a5', 'ffc2490b217d7303', '5d23bc632dd305d4', 'c1737a8d1529d28f', '03838e7e0ed6b1f8', 'dd5c1b3338bc2c23', 'bb5609ad47c3858b', 'd988b9f9833e29c2', '79f80d14a62376e6', 'fd7a0b99a1c19c25', '07b37afac505f818', 'c9b523db2c2758c3', 'c3c256f79646130f', 'e7ee1d90c29c9196', 'ff0b590387f0e485', '034c7c83ec237c7d', '67e1a9188ba738c7', 'f5c319a5a9462b71', '87f333d89103d3e2', 'ff4b1505837a11cd', '6109cbd71ff1c40e', '6902d7b506697b1e', '55aeab9404716e7a', 'ab7776e326038385', '019afe65e64556b8', '21c5fa6e1105cbfa', 'b751ab853994ab51', '253c499ba763439b', '898747767c94a659', '85f958050dfcaccb', '7d7c83839c23e23c', '8b857263a55caa5d', '85a5fc037c1fc03b', '230a7efa1c5594ce', 'd7916935914ab693', 'cf415f85f71c2309', '3793c94965369395', '9dd8c82c25b6f326', '59acb554b88b5c63', '3fc03fe0d11f60a9', '8963cd9698de6a38', 'ff4927993c0343e8', 'ab2e7416a5f05687', '0f1ed68da9631876', '4b0aa424a6faf2e7', '9771acd15ca134cd', '8f72594cf2191f83', 'fd2626288c94d67e', 'f500a4382bde4be7', 'fd3303ccec32d609', '25fefa0543b30e4c', '0d6992f1ce36616e', '0b02a5f5d3dae466', 'ff0631e00974b9cd', '5371ae8c3ca4a3a7', '7737b95946684985', 'ff4e21a983859d52', '6bbcc780c491537e', '97612ad6dc23396c', '55092b8d69bf03d3', '51fd2c7af98403d2', 'b7cd47d22b1b0943', '87737989a6331ac9', 'fb07192cdcd61a1a', 'e91f57d09b07e015', '1fe0be40c3bf6489', '79a2cf988ada6546', 'f5d1474b2923ad0b', '2dee0b20acebda64', 'c3171c3cf6995c61', 'fd1303ec7613ac29', '73f2999962740976', 'dfca792909b581c6', '976d49d3639c2c16', 'a95394ad16ed1396', '555daeba99492711', 'ff5505a3c289b19a', '3fa54b946ea15a1c', 'e1f7ac0a1c59bca8', 'ff0525dee3ac011a', 'fd66939589c35261', 'd3131fd2ad7c202d', 'ff020df8927d23c2', 'f761034d1a07dce9', '21d1d163b5ab63a6', '895cf1431e2f23e6', '83c74feb76d2c108', '1f4ac9591cebb894', '0353f8fcfc2c9c03', 'f5f389570b0e0527', 'd918276c27bc4af1', 'ff9626985c702999', '574ea3a189e3897a', 'bf4359b6a34d4a81', 'c78aca5ae0e496b6']\n"
     ]
    }
   ],
   "source": [
    "import os\n",
    "import pandas as pd\n",
    "\n",
    "df = pd.read_csv(\"../data/outputs/posts_with_party.csv\")\n",
    "\n",
    "hash_list = list(set(df[\"hash\"].tolist()))\n",
    "file_list = list(map(lambda x: \"../images/\" + x + \".jpg\", hash_list))\n",
    "missing_hashes = [\n",
    "    hash_list[i] for i in range(len(file_list)) if not os.path.exists(file_list[i])\n",
    "]\n",
    "\n",
    "print(f\"{len(missing_hashes)}/{len(file_list)} files missing.\")\n",
    "print(\"Non-existent files:\", missing_hashes)\n"
   ]
  },
  {
   "cell_type": "code",
   "execution_count": 17,
   "metadata": {},
   "outputs": [
    {
     "name": "stdout",
     "output_type": "stream",
     "text": [
      "Data written to missing_images.txt successfully.\n"
     ]
    }
   ],
   "source": [
    "def write_list_to_file(file_path, data_list):\n",
    "    \"\"\"\n",
    "    Writes each entry in the list to a new line in the specified file.\n",
    "    \n",
    "    Args:\n",
    "        file_path (str): The path of the file to write to.\n",
    "        data_list (list of str): The list of strings to write to the file.\n",
    "    \"\"\"\n",
    "    try:\n",
    "        with open(file_path, 'w') as file:\n",
    "            for entry in data_list:\n",
    "                file.write(entry + '\\n')  # Write each entry followed by a newline\n",
    "        print(f\"Data written to {file_path} successfully.\")\n",
    "    except Exception as e:\n",
    "        print(f\"An error occurred: {e}\")\n",
    "        \n",
    "write_list_to_file(\"missing_images.txt\", missing_hashes)"
   ]
  }
 ],
 "metadata": {
  "kernelspec": {
   "display_name": "network_vis",
   "language": "python",
   "name": "python3"
  },
  "language_info": {
   "codemirror_mode": {
    "name": "ipython",
    "version": 3
   },
   "file_extension": ".py",
   "mimetype": "text/x-python",
   "name": "python",
   "nbconvert_exporter": "python",
   "pygments_lexer": "ipython3",
   "version": "3.12.6"
  }
 },
 "nbformat": 4,
 "nbformat_minor": 2
}
